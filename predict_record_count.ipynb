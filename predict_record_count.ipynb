{
 "cells": [
  {
   "cell_type": "code",
   "execution_count": 1,
   "metadata": {},
   "outputs": [],
   "source": [
    "# philip walsh\n",
    "# philipwalsh.ds@gmail.com\n",
    "# 2020-02-17\n",
    "# predict_record_count.ipynb"
   ]
  },
  {
   "cell_type": "code",
   "execution_count": 2,
   "metadata": {},
   "outputs": [],
   "source": [
    "# background\n",
    "#  i have a process that feeds me data\n",
    "#  the data is supposed to arrive daily\n",
    "#  the users are happiest when the data arrives early in the day\n",
    "#  the data being sent relates to the previous days activities\n",
    "#\n",
    "#  the process that sends me the data is a black box\n",
    "#   out of my hands\n",
    "#   the more activity in general, the longer it takes for the \n",
    "#   data to arrive because the black box is responsible\n",
    "#   for many different activities and it is low on compute resources\n",
    "#\n",
    "#  i created my own process that tracks the arrival time and record count\n",
    "#   [arrived_date]   : the date + time the notification email was queued up\n",
    "#   [arrived_hour]   : the hour of the day it arrived\n",
    "#   [arrived_minute] : the minute of the day it arrived\n",
    "#   [record_count]   : the number of reecords received\n",
    "#"
   ]
  },
  {
   "cell_type": "code",
   "execution_count": 3,
   "metadata": {},
   "outputs": [],
   "source": [
    "# the goal\n",
    "# predict the record count\n",
    "\n",
    "# The data is from a single calendar year, so holiday trends will be impossible to predict\n",
    "# I am more curious about predicting non holiday, normal trends.\n",
    "# so the dataset has been stripped of a few holiday weeks\n",
    "#  first week in july and 2 weeks in december\n",
    "# Also, there are exactly 48 full weeks in the data.  nore more no less.\n",
    "#  a week is defined as day 1=Sunday, Day 7=Saturday\n"
   ]
  },
  {
   "cell_type": "code",
   "execution_count": 4,
   "metadata": {},
   "outputs": [],
   "source": [
    "import pandas as pd\n",
    "import numpy as np\n",
    "import matplotlib.pyplot as plt\n",
    "from datetime import datetime"
   ]
  },
  {
   "cell_type": "code",
   "execution_count": 5,
   "metadata": {},
   "outputs": [
    {
     "name": "stdout",
     "output_type": "stream",
     "text": [
      "tensorflow version  : 2.0.0\n"
     ]
    }
   ],
   "source": [
    "import tensorflow as tf\n",
    "print ('tensorflow version  :', tf.__version__)"
   ]
  },
  {
   "cell_type": "code",
   "execution_count": 6,
   "metadata": {},
   "outputs": [
    {
     "name": "stdout",
     "output_type": "stream",
     "text": [
      "saul goodman\n"
     ]
    }
   ],
   "source": [
    "try:\n",
    "    del data\n",
    "except:\n",
    "    print('saul goodman')\n",
    "    \n",
    "data = pd.read_csv('./data/2018.csv')"
   ]
  },
  {
   "cell_type": "code",
   "execution_count": 7,
   "metadata": {},
   "outputs": [
    {
     "data": {
      "text/html": [
       "<div>\n",
       "<style scoped>\n",
       "    .dataframe tbody tr th:only-of-type {\n",
       "        vertical-align: middle;\n",
       "    }\n",
       "\n",
       "    .dataframe tbody tr th {\n",
       "        vertical-align: top;\n",
       "    }\n",
       "\n",
       "    .dataframe thead th {\n",
       "        text-align: right;\n",
       "    }\n",
       "</style>\n",
       "<table border=\"1\" class=\"dataframe\">\n",
       "  <thead>\n",
       "    <tr style=\"text-align: right;\">\n",
       "      <th></th>\n",
       "      <th>arrived_date</th>\n",
       "      <th>arrived_hour</th>\n",
       "      <th>arrived_minute</th>\n",
       "      <th>record_count</th>\n",
       "    </tr>\n",
       "  </thead>\n",
       "  <tbody>\n",
       "    <tr>\n",
       "      <th>0</th>\n",
       "      <td>2018-01-07 08:30:06.953</td>\n",
       "      <td>8</td>\n",
       "      <td>30</td>\n",
       "      <td>2</td>\n",
       "    </tr>\n",
       "    <tr>\n",
       "      <th>1</th>\n",
       "      <td>2018-01-08 09:30:11.170</td>\n",
       "      <td>9</td>\n",
       "      <td>30</td>\n",
       "      <td>40</td>\n",
       "    </tr>\n",
       "    <tr>\n",
       "      <th>2</th>\n",
       "      <td>2018-01-09 09:00:12.733</td>\n",
       "      <td>9</td>\n",
       "      <td>0</td>\n",
       "      <td>318</td>\n",
       "    </tr>\n",
       "    <tr>\n",
       "      <th>3</th>\n",
       "      <td>2018-01-10 10:00:10.730</td>\n",
       "      <td>10</td>\n",
       "      <td>0</td>\n",
       "      <td>436</td>\n",
       "    </tr>\n",
       "    <tr>\n",
       "      <th>4</th>\n",
       "      <td>2018-01-11 11:30:09.677</td>\n",
       "      <td>11</td>\n",
       "      <td>30</td>\n",
       "      <td>308</td>\n",
       "    </tr>\n",
       "    <tr>\n",
       "      <th>5</th>\n",
       "      <td>2018-01-12 12:00:07.217</td>\n",
       "      <td>12</td>\n",
       "      <td>0</td>\n",
       "      <td>354</td>\n",
       "    </tr>\n",
       "    <tr>\n",
       "      <th>6</th>\n",
       "      <td>2018-01-13 08:00:06.813</td>\n",
       "      <td>8</td>\n",
       "      <td>0</td>\n",
       "      <td>253</td>\n",
       "    </tr>\n",
       "    <tr>\n",
       "      <th>7</th>\n",
       "      <td>2018-01-14 08:00:05.267</td>\n",
       "      <td>8</td>\n",
       "      <td>0</td>\n",
       "      <td>8</td>\n",
       "    </tr>\n",
       "    <tr>\n",
       "      <th>8</th>\n",
       "      <td>2018-01-15 13:14:02.110</td>\n",
       "      <td>13</td>\n",
       "      <td>14</td>\n",
       "      <td>28</td>\n",
       "    </tr>\n",
       "    <tr>\n",
       "      <th>9</th>\n",
       "      <td>2018-01-16 10:00:10.437</td>\n",
       "      <td>10</td>\n",
       "      <td>0</td>\n",
       "      <td>511</td>\n",
       "    </tr>\n",
       "    <tr>\n",
       "      <th>10</th>\n",
       "      <td>2018-01-17 10:00:06.633</td>\n",
       "      <td>10</td>\n",
       "      <td>0</td>\n",
       "      <td>341</td>\n",
       "    </tr>\n",
       "    <tr>\n",
       "      <th>11</th>\n",
       "      <td>2018-01-18 11:30:14.490</td>\n",
       "      <td>11</td>\n",
       "      <td>30</td>\n",
       "      <td>303</td>\n",
       "    </tr>\n",
       "    <tr>\n",
       "      <th>12</th>\n",
       "      <td>2018-01-19 11:30:15.283</td>\n",
       "      <td>11</td>\n",
       "      <td>30</td>\n",
       "      <td>330</td>\n",
       "    </tr>\n",
       "    <tr>\n",
       "      <th>13</th>\n",
       "      <td>2018-01-20 09:00:00.937</td>\n",
       "      <td>9</td>\n",
       "      <td>0</td>\n",
       "      <td>274</td>\n",
       "    </tr>\n",
       "  </tbody>\n",
       "</table>\n",
       "</div>"
      ],
      "text/plain": [
       "               arrived_date  arrived_hour  arrived_minute  record_count\n",
       "0   2018-01-07 08:30:06.953             8              30             2\n",
       "1   2018-01-08 09:30:11.170             9              30            40\n",
       "2   2018-01-09 09:00:12.733             9               0           318\n",
       "3   2018-01-10 10:00:10.730            10               0           436\n",
       "4   2018-01-11 11:30:09.677            11              30           308\n",
       "5   2018-01-12 12:00:07.217            12               0           354\n",
       "6   2018-01-13 08:00:06.813             8               0           253\n",
       "7   2018-01-14 08:00:05.267             8               0             8\n",
       "8   2018-01-15 13:14:02.110            13              14            28\n",
       "9   2018-01-16 10:00:10.437            10               0           511\n",
       "10  2018-01-17 10:00:06.633            10               0           341\n",
       "11  2018-01-18 11:30:14.490            11              30           303\n",
       "12  2018-01-19 11:30:15.283            11              30           330\n",
       "13  2018-01-20 09:00:00.937             9               0           274"
      ]
     },
     "execution_count": 7,
     "metadata": {},
     "output_type": "execute_result"
    }
   ],
   "source": [
    "data.head(14)"
   ]
  },
  {
   "cell_type": "code",
   "execution_count": 8,
   "metadata": {},
   "outputs": [
    {
     "data": {
      "text/html": [
       "<div>\n",
       "<style scoped>\n",
       "    .dataframe tbody tr th:only-of-type {\n",
       "        vertical-align: middle;\n",
       "    }\n",
       "\n",
       "    .dataframe tbody tr th {\n",
       "        vertical-align: top;\n",
       "    }\n",
       "\n",
       "    .dataframe thead th {\n",
       "        text-align: right;\n",
       "    }\n",
       "</style>\n",
       "<table border=\"1\" class=\"dataframe\">\n",
       "  <thead>\n",
       "    <tr style=\"text-align: right;\">\n",
       "      <th></th>\n",
       "      <th>arrived_date</th>\n",
       "      <th>arrived_hour</th>\n",
       "      <th>arrived_minute</th>\n",
       "      <th>record_count</th>\n",
       "    </tr>\n",
       "  </thead>\n",
       "  <tbody>\n",
       "    <tr>\n",
       "      <th>322</th>\n",
       "      <td>2018-12-02 12:00:04.030</td>\n",
       "      <td>12</td>\n",
       "      <td>0</td>\n",
       "      <td>9</td>\n",
       "    </tr>\n",
       "    <tr>\n",
       "      <th>323</th>\n",
       "      <td>2018-12-03 17:30:08.500</td>\n",
       "      <td>17</td>\n",
       "      <td>30</td>\n",
       "      <td>12</td>\n",
       "    </tr>\n",
       "    <tr>\n",
       "      <th>324</th>\n",
       "      <td>2018-12-04 13:30:09.420</td>\n",
       "      <td>13</td>\n",
       "      <td>30</td>\n",
       "      <td>290</td>\n",
       "    </tr>\n",
       "    <tr>\n",
       "      <th>325</th>\n",
       "      <td>2018-12-05 13:30:05.730</td>\n",
       "      <td>13</td>\n",
       "      <td>30</td>\n",
       "      <td>298</td>\n",
       "    </tr>\n",
       "    <tr>\n",
       "      <th>326</th>\n",
       "      <td>2018-12-06 12:00:16.817</td>\n",
       "      <td>12</td>\n",
       "      <td>0</td>\n",
       "      <td>313</td>\n",
       "    </tr>\n",
       "    <tr>\n",
       "      <th>327</th>\n",
       "      <td>2018-12-07 12:00:12.307</td>\n",
       "      <td>12</td>\n",
       "      <td>0</td>\n",
       "      <td>366</td>\n",
       "    </tr>\n",
       "    <tr>\n",
       "      <th>328</th>\n",
       "      <td>2018-12-08 09:00:01.903</td>\n",
       "      <td>9</td>\n",
       "      <td>0</td>\n",
       "      <td>251</td>\n",
       "    </tr>\n",
       "    <tr>\n",
       "      <th>329</th>\n",
       "      <td>2018-12-09 09:30:02.170</td>\n",
       "      <td>9</td>\n",
       "      <td>30</td>\n",
       "      <td>3</td>\n",
       "    </tr>\n",
       "    <tr>\n",
       "      <th>330</th>\n",
       "      <td>2018-12-10 14:30:07.897</td>\n",
       "      <td>14</td>\n",
       "      <td>30</td>\n",
       "      <td>47</td>\n",
       "    </tr>\n",
       "    <tr>\n",
       "      <th>331</th>\n",
       "      <td>2018-12-11 15:00:09.540</td>\n",
       "      <td>15</td>\n",
       "      <td>0</td>\n",
       "      <td>390</td>\n",
       "    </tr>\n",
       "    <tr>\n",
       "      <th>332</th>\n",
       "      <td>2018-12-12 13:00:07.997</td>\n",
       "      <td>13</td>\n",
       "      <td>0</td>\n",
       "      <td>328</td>\n",
       "    </tr>\n",
       "    <tr>\n",
       "      <th>333</th>\n",
       "      <td>2018-12-13 14:30:07.920</td>\n",
       "      <td>14</td>\n",
       "      <td>30</td>\n",
       "      <td>354</td>\n",
       "    </tr>\n",
       "    <tr>\n",
       "      <th>334</th>\n",
       "      <td>2018-12-14 15:30:09.540</td>\n",
       "      <td>15</td>\n",
       "      <td>30</td>\n",
       "      <td>366</td>\n",
       "    </tr>\n",
       "    <tr>\n",
       "      <th>335</th>\n",
       "      <td>2018-12-15 10:00:03.283</td>\n",
       "      <td>10</td>\n",
       "      <td>0</td>\n",
       "      <td>314</td>\n",
       "    </tr>\n",
       "  </tbody>\n",
       "</table>\n",
       "</div>"
      ],
      "text/plain": [
       "                arrived_date  arrived_hour  arrived_minute  record_count\n",
       "322  2018-12-02 12:00:04.030            12               0             9\n",
       "323  2018-12-03 17:30:08.500            17              30            12\n",
       "324  2018-12-04 13:30:09.420            13              30           290\n",
       "325  2018-12-05 13:30:05.730            13              30           298\n",
       "326  2018-12-06 12:00:16.817            12               0           313\n",
       "327  2018-12-07 12:00:12.307            12               0           366\n",
       "328  2018-12-08 09:00:01.903             9               0           251\n",
       "329  2018-12-09 09:30:02.170             9              30             3\n",
       "330  2018-12-10 14:30:07.897            14              30            47\n",
       "331  2018-12-11 15:00:09.540            15               0           390\n",
       "332  2018-12-12 13:00:07.997            13               0           328\n",
       "333  2018-12-13 14:30:07.920            14              30           354\n",
       "334  2018-12-14 15:30:09.540            15              30           366\n",
       "335  2018-12-15 10:00:03.283            10               0           314"
      ]
     },
     "execution_count": 8,
     "metadata": {},
     "output_type": "execute_result"
    }
   ],
   "source": [
    "data.tail(14)"
   ]
  },
  {
   "cell_type": "code",
   "execution_count": 9,
   "metadata": {},
   "outputs": [
    {
     "data": {
      "text/plain": [
       "336"
      ]
     },
     "execution_count": 9,
     "metadata": {},
     "output_type": "execute_result"
    }
   ],
   "source": [
    "len(data)"
   ]
  },
  {
   "cell_type": "code",
   "execution_count": 10,
   "metadata": {},
   "outputs": [
    {
     "data": {
      "text/plain": [
       "48.0"
      ]
     },
     "execution_count": 10,
     "metadata": {},
     "output_type": "execute_result"
    }
   ],
   "source": [
    "# how many instances of the week cycle do i have?\n",
    "len(data)/7"
   ]
  },
  {
   "cell_type": "code",
   "execution_count": 11,
   "metadata": {},
   "outputs": [
    {
     "data": {
      "text/plain": [
       "0"
      ]
     },
     "execution_count": 11,
     "metadata": {},
     "output_type": "execute_result"
    }
   ],
   "source": [
    "# no remaninder, no extra days?\n",
    "len(data) % 7"
   ]
  },
  {
   "cell_type": "code",
   "execution_count": 67,
   "metadata": {},
   "outputs": [
    {
     "name": "stdout",
     "output_type": "stream",
     "text": [
      "length of   : 7\n",
      "0    2018-01-07 08:30:06.953\n",
      "1    2018-01-08 09:30:11.170\n",
      "2    2018-01-09 09:00:12.733\n",
      "3    2018-01-10 10:00:10.730\n",
      "4    2018-01-11 11:30:09.677\n",
      "5    2018-01-12 12:00:07.217\n",
      "6    2018-01-13 08:00:06.813\n",
      "Name: arrived_date, dtype: object\n",
      "0      2\n",
      "1     40\n",
      "2    318\n",
      "3    436\n",
      "4    308\n",
      "5    354\n",
      "6    253\n",
      "Name: record_count, dtype: int64\n"
     ]
    },
    {
     "data": {
      "text/plain": [
       "[<matplotlib.lines.Line2D at 0x1da91472588>]"
      ]
     },
     "execution_count": 67,
     "metadata": {},
     "output_type": "execute_result"
    },
    {
     "data": {
      "image/png": "[encoded data removed]",
      "text/plain": [
       "<Figure size 432x288 with 1 Axes>"
      ]
     },
     "metadata": {
      "needs_background": "light"
     },
     "output_type": "display_data"
    }
   ],
   "source": [
    "# lets have a look at week 1\n",
    "start_index=0\n",
    "end_index=7\n",
    "print('length of   :', len(data['arrived_date'][start_index:end_index]))\n",
    "print(data['arrived_date'][start_index:end_index])\n",
    "print(data['record_count'][start_index:end_index])\n",
    "plt.xticks(rotation=90)\n",
    "plt.plot(data['arrived_date'][start_index:end_index], data['record_count'][start_index:end_index])"
   ]
  },
  {
   "cell_type": "code",
   "execution_count": 68,
   "metadata": {},
   "outputs": [
    {
     "name": "stdout",
     "output_type": "stream",
     "text": [
      "length of   : 7\n",
      "7     2018-01-14 08:00:05.267\n",
      "8     2018-01-15 13:14:02.110\n",
      "9     2018-01-16 10:00:10.437\n",
      "10    2018-01-17 10:00:06.633\n",
      "11    2018-01-18 11:30:14.490\n",
      "12    2018-01-19 11:30:15.283\n",
      "13    2018-01-20 09:00:00.937\n",
      "Name: arrived_date, dtype: object\n",
      "7       8\n",
      "8      28\n",
      "9     511\n",
      "10    341\n",
      "11    303\n",
      "12    330\n",
      "13    274\n",
      "Name: record_count, dtype: int64\n"
     ]
    },
    {
     "data": {
      "text/plain": [
       "[<matplotlib.lines.Line2D at 0x1da912cee48>]"
      ]
     },
     "execution_count": 68,
     "metadata": {},
     "output_type": "execute_result"
    },
    {
     "data": {
      "image/png": "[encoded data removed]",
      "text/plain": [
       "<Figure size 432x288 with 1 Axes>"
      ]
     },
     "metadata": {
      "needs_background": "light"
     },
     "output_type": "display_data"
    }
   ],
   "source": [
    "# lets have a look at week 2\n",
    "start_index=7\n",
    "end_index=14\n",
    "print('length of   :', len(data['arrived_date'][start_index:end_index]))\n",
    "print(data['arrived_date'][start_index:end_index])\n",
    "print(data['record_count'][start_index:end_index])\n",
    "plt.xticks(rotation=90)\n",
    "plt.plot(data['arrived_date'][start_index:end_index], data['record_count'][start_index:end_index])"
   ]
  },
  {
   "cell_type": "code",
   "execution_count": 69,
   "metadata": {},
   "outputs": [
    {
     "name": "stdout",
     "output_type": "stream",
     "text": [
      "length of   : 7\n",
      "14    2018-01-21 10:30:12.590\n",
      "15    2018-01-22 13:00:06.353\n",
      "16    2018-01-23 12:00:08.023\n",
      "17    2018-01-24 12:00:10.787\n",
      "18    2018-01-25 12:30:09.373\n",
      "19    2018-01-26 13:30:07.757\n",
      "20    2018-01-27 09:00:07.453\n",
      "Name: arrived_date, dtype: object\n",
      "14      6\n",
      "15     38\n",
      "16    362\n",
      "17    362\n",
      "18    393\n",
      "19    374\n",
      "20    309\n",
      "Name: record_count, dtype: int64\n"
     ]
    },
    {
     "data": {
      "text/plain": [
       "[<matplotlib.lines.Line2D at 0x1da912f4348>]"
      ]
     },
     "execution_count": 69,
     "metadata": {},
     "output_type": "execute_result"
    },
    {
     "data": {
      "image/png": "[encoded data removed]",
      "text/plain": [
       "<Figure size 432x288 with 1 Axes>"
      ]
     },
     "metadata": {
      "needs_background": "light"
     },
     "output_type": "display_data"
    }
   ],
   "source": [
    "# lets have a look at week 3\n",
    "start_index=14\n",
    "end_index=21\n",
    "print('length of   :', len(data['arrived_date'][start_index:end_index]))\n",
    "print(data['arrived_date'][start_index:end_index])\n",
    "print(data['record_count'][start_index:end_index])\n",
    "plt.xticks(rotation=90)\n",
    "plt.plot(data['arrived_date'][start_index:end_index], data['record_count'][start_index:end_index])"
   ]
  },
  {
   "cell_type": "code",
   "execution_count": 70,
   "metadata": {},
   "outputs": [
    {
     "name": "stdout",
     "output_type": "stream",
     "text": [
      "length of   : 21\n",
      "0     2018-01-07 08:30:06.953\n",
      "1     2018-01-08 09:30:11.170\n",
      "2     2018-01-09 09:00:12.733\n",
      "3     2018-01-10 10:00:10.730\n",
      "4     2018-01-11 11:30:09.677\n",
      "5     2018-01-12 12:00:07.217\n",
      "6     2018-01-13 08:00:06.813\n",
      "7     2018-01-14 08:00:05.267\n",
      "8     2018-01-15 13:14:02.110\n",
      "9     2018-01-16 10:00:10.437\n",
      "10    2018-01-17 10:00:06.633\n",
      "11    2018-01-18 11:30:14.490\n",
      "12    2018-01-19 11:30:15.283\n",
      "13    2018-01-20 09:00:00.937\n",
      "14    2018-01-21 10:30:12.590\n",
      "15    2018-01-22 13:00:06.353\n",
      "16    2018-01-23 12:00:08.023\n",
      "17    2018-01-24 12:00:10.787\n",
      "18    2018-01-25 12:30:09.373\n",
      "19    2018-01-26 13:30:07.757\n",
      "20    2018-01-27 09:00:07.453\n",
      "Name: arrived_date, dtype: object\n",
      "0       2\n",
      "1      40\n",
      "2     318\n",
      "3     436\n",
      "4     308\n",
      "5     354\n",
      "6     253\n",
      "7       8\n",
      "8      28\n",
      "9     511\n",
      "10    341\n",
      "11    303\n",
      "12    330\n",
      "13    274\n",
      "14      6\n",
      "15     38\n",
      "16    362\n",
      "17    362\n",
      "18    393\n",
      "19    374\n",
      "20    309\n",
      "Name: record_count, dtype: int64\n"
     ]
    },
    {
     "data": {
      "text/plain": [
       "[<matplotlib.lines.Line2D at 0x1da913a3688>]"
      ]
     },
     "execution_count": 70,
     "metadata": {},
     "output_type": "execute_result"
    },
    {
     "data": {
      "image/png": "[encoded data removed]",
      "text/plain": [
       "<Figure size 432x288 with 1 Axes>"
      ]
     },
     "metadata": {
      "needs_background": "light"
     },
     "output_type": "display_data"
    }
   ],
   "source": [
    "# lets have a look at week 1-3\n",
    "start_index=0\n",
    "end_index=21\n",
    "print('length of   :', len(data['arrived_date'][start_index:end_index]))\n",
    "print(data['arrived_date'][start_index:end_index])\n",
    "print(data['record_count'][start_index:end_index])\n",
    "plt.xticks(rotation=90)\n",
    "plt.plot(data['arrived_date'][start_index:end_index], data['record_count'][start_index:end_index])"
   ]
  },
  {
   "cell_type": "code",
   "execution_count": 16,
   "metadata": {},
   "outputs": [
    {
     "data": {
      "text/plain": [
       "28"
      ]
     },
     "execution_count": 16,
     "metadata": {},
     "output_type": "execute_result"
    }
   ],
   "source": [
    "# we need a test set, something from the end of the time series data\n",
    "# we take a percentage of the end of the ts data\n",
    "# as the test\n",
    "test_percent = 0.1\n",
    "test_record_count = int(len(data)/7 * test_percent) * 7\n",
    "test_record_count"
   ]
  },
  {
   "cell_type": "code",
   "execution_count": 17,
   "metadata": {},
   "outputs": [
    {
     "data": {
      "text/plain": [
       "308"
      ]
     },
     "execution_count": 17,
     "metadata": {},
     "output_type": "execute_result"
    }
   ],
   "source": [
    "test_ind = int(len(data)-test_record_count)\n",
    "test_ind"
   ]
  },
  {
   "cell_type": "code",
   "execution_count": 18,
   "metadata": {},
   "outputs": [
    {
     "name": "stdout",
     "output_type": "stream",
     "text": [
      "length of training : 308\n",
      "length of test     :  28\n",
      "weeks in training  : 44.0\n",
      "weeks in test      :  4.0\n"
     ]
    }
   ],
   "source": [
    "print('length of training :' , len(data[:test_ind]))\n",
    "print('length of test     : ', len(data[test_ind:]))\n",
    "print('weeks in training  :' , len(data[:test_ind])/7)\n",
    "print('weeks in test      : ', len(data[test_ind:])/7)"
   ]
  },
  {
   "cell_type": "code",
   "execution_count": 19,
   "metadata": {},
   "outputs": [],
   "source": [
    "# from beginning, up to but not including the test_ind\n",
    "train = pd.DataFrame(data.iloc[:test_ind]['record_count'])  "
   ]
  },
  {
   "cell_type": "code",
   "execution_count": 20,
   "metadata": {},
   "outputs": [],
   "source": [
    "# from the test_ind to the end\n",
    "test = pd.DataFrame(data.iloc[test_ind:]['record_count'])"
   ]
  },
  {
   "cell_type": "code",
   "execution_count": 21,
   "metadata": {},
   "outputs": [
    {
     "name": "stdout",
     "output_type": "stream",
     "text": [
      "train len    : 308\n",
      "train len/7  : 44.0\n",
      "train len%7  : 0\n",
      "test len     : 28\n",
      "test len/7  : 4.0\n",
      "test len%7  : 0\n"
     ]
    }
   ],
   "source": [
    "print('train len    :', len(train))\n",
    "print('train len/7  :', len(train)/7)\n",
    "print('train len%7  :', len(train)%7)\n",
    "\n",
    "\n",
    "print('test len     :', len(test))\n",
    "print('test len/7  :', len(test)/7)\n",
    "print('test len%7  :', len(test)%7)\n"
   ]
  },
  {
   "cell_type": "code",
   "execution_count": 22,
   "metadata": {},
   "outputs": [
    {
     "data": {
      "image/png": "[encoded data removed]",
      "text/plain": [
       "<Figure size 432x288 with 1 Axes>"
      ]
     },
     "metadata": {
      "needs_background": "light"
     },
     "output_type": "display_data"
    }
   ],
   "source": [
    "plt.plot(train);"
   ]
  },
  {
   "cell_type": "code",
   "execution_count": 23,
   "metadata": {},
   "outputs": [
    {
     "data": {
      "image/png": "[encoded data removed]",
      "text/plain": [
       "<Figure size 432x288 with 1 Axes>"
      ]
     },
     "metadata": {
      "needs_background": "light"
     },
     "output_type": "display_data"
    }
   ],
   "source": [
    "plt.plot(test);"
   ]
  },
  {
   "cell_type": "code",
   "execution_count": 25,
   "metadata": {},
   "outputs": [],
   "source": [
    "from sklearn.preprocessing import MinMaxScaler"
   ]
  },
  {
   "cell_type": "code",
   "execution_count": 26,
   "metadata": {},
   "outputs": [],
   "source": [
    "scaler = MinMaxScaler()"
   ]
  },
  {
   "cell_type": "code",
   "execution_count": 27,
   "metadata": {},
   "outputs": [
    {
     "data": {
      "text/plain": [
       "pandas.core.frame.DataFrame"
      ]
     },
     "execution_count": 27,
     "metadata": {},
     "output_type": "execute_result"
    }
   ],
   "source": [
    "type(train)"
   ]
  },
  {
   "cell_type": "code",
   "execution_count": 28,
   "metadata": {},
   "outputs": [
    {
     "data": {
      "text/plain": [
       "MinMaxScaler(copy=True, feature_range=(0, 1))"
      ]
     },
     "execution_count": 28,
     "metadata": {},
     "output_type": "execute_result"
    }
   ],
   "source": [
    "scaler.fit(train) #fit only on the training data"
   ]
  },
  {
   "cell_type": "code",
   "execution_count": 29,
   "metadata": {},
   "outputs": [],
   "source": [
    "# apply the scaler to the train \n",
    "scaled_train = scaler.transform(train) "
   ]
  },
  {
   "cell_type": "code",
   "execution_count": 30,
   "metadata": {},
   "outputs": [],
   "source": [
    "# AND tot he test\n",
    "scaled_test = scaler.transform(test)"
   ]
  },
  {
   "cell_type": "code",
   "execution_count": 31,
   "metadata": {},
   "outputs": [],
   "source": [
    "from tensorflow.keras.preprocessing.sequence import TimeseriesGenerator\n"
   ]
  },
  {
   "cell_type": "code",
   "execution_count": 32,
   "metadata": {},
   "outputs": [],
   "source": [
    "# help(TimeseriesGenerator)"
   ]
  },
  {
   "cell_type": "code",
   "execution_count": 33,
   "metadata": {},
   "outputs": [
    {
     "name": "stdout",
     "output_type": "stream",
     "text": [
      "no gen yet, saul goodman\n",
      "gen created\n"
     ]
    }
   ],
   "source": [
    "# output length\n",
    "length = 10\n",
    "# number of time series to return\n",
    "batch_size = 1\n",
    "\n",
    "try:\n",
    "    del generator\n",
    "    print('gen cleaned up')\n",
    "except:\n",
    "    print('no gen yet, saul goodman')\n",
    "    \n",
    "\n",
    "generator = TimeseriesGenerator(scaled_train, \n",
    "                                scaled_train,\n",
    "                               length=length,\n",
    "                                batch_size=batch_size)\n",
    "print('gen created')"
   ]
  },
  {
   "cell_type": "code",
   "execution_count": 34,
   "metadata": {},
   "outputs": [
    {
     "data": {
      "text/plain": [
       "308"
      ]
     },
     "execution_count": 34,
     "metadata": {},
     "output_type": "execute_result"
    }
   ],
   "source": [
    "len(scaled_train) #315"
   ]
  },
  {
   "cell_type": "code",
   "execution_count": 35,
   "metadata": {},
   "outputs": [
    {
     "data": {
      "text/plain": [
       "298"
      ]
     },
     "execution_count": 35,
     "metadata": {},
     "output_type": "execute_result"
    }
   ],
   "source": [
    "len(generator) #its 10 less than scaled_train"
   ]
  },
  {
   "cell_type": "code",
   "execution_count": 36,
   "metadata": {},
   "outputs": [],
   "source": [
    "(X,y)=generator[2]"
   ]
  },
  {
   "cell_type": "code",
   "execution_count": 37,
   "metadata": {},
   "outputs": [
    {
     "data": {
      "text/plain": [
       "array([[[0.62156863],\n",
       "        [0.85294118],\n",
       "        [0.60196078],\n",
       "        [0.69215686],\n",
       "        [0.49411765],\n",
       "        [0.01372549],\n",
       "        [0.05294118],\n",
       "        [1.        ],\n",
       "        [0.66666667],\n",
       "        [0.59215686]]])"
      ]
     },
     "execution_count": 37,
     "metadata": {},
     "output_type": "execute_result"
    }
   ],
   "source": [
    "X"
   ]
  },
  {
   "cell_type": "code",
   "execution_count": 38,
   "metadata": {},
   "outputs": [
    {
     "data": {
      "text/plain": [
       "10"
      ]
     },
     "execution_count": 38,
     "metadata": {},
     "output_type": "execute_result"
    }
   ],
   "source": [
    "length"
   ]
  },
  {
   "cell_type": "code",
   "execution_count": 39,
   "metadata": {},
   "outputs": [],
   "source": [
    "from tensorflow.keras.models import Sequential\n",
    "from tensorflow.keras.layers import Dense, SimpleRNN, LSTM"
   ]
  },
  {
   "cell_type": "code",
   "execution_count": 40,
   "metadata": {},
   "outputs": [],
   "source": [
    "n_features = 1"
   ]
  },
  {
   "cell_type": "code",
   "execution_count": 41,
   "metadata": {},
   "outputs": [
    {
     "name": "stdout",
     "output_type": "stream",
     "text": [
      "no mdel defined, saul goodman\n",
      "model created\n",
      "Model: \"sequential\"\n",
      "_________________________________________________________________\n",
      "Layer (type)                 Output Shape              Param #   \n",
      "=================================================================\n",
      "simple_rnn (SimpleRNN)       (None, 7)                 63        \n",
      "_________________________________________________________________\n",
      "dense (Dense)                (None, 1)                 8         \n",
      "=================================================================\n",
      "Total params: 71\n",
      "Trainable params: 71\n",
      "Non-trainable params: 0\n",
      "_________________________________________________________________\n"
     ]
    }
   ],
   "source": [
    "try:\n",
    "    del model\n",
    "    print('model deleted')\n",
    "except:\n",
    "    print('no mdel defined, saul goodman')\n",
    "\n",
    "\n",
    "model = Sequential()\n",
    "model.add(SimpleRNN(units=7,input_shape=(length, n_features) ))\n",
    "model.add(Dense(1))\n",
    "model.compile(optimizer='adam', loss='mse')\n",
    "\n",
    "print('model created')\n",
    "model.summary()"
   ]
  },
  {
   "cell_type": "code",
   "execution_count": 44,
   "metadata": {},
   "outputs": [
    {
     "name": "stdout",
     "output_type": "stream",
     "text": [
      "Epoch 1/15\n",
      "298/298 [==============================] - 16s 55ms/step - loss: 0.0899\n",
      "Epoch 2/15\n",
      "298/298 [==============================] - 16s 53ms/step - loss: 0.0611\n",
      "Epoch 3/15\n",
      "298/298 [==============================] - 16s 54ms/step - loss: 0.0357\n",
      "Epoch 4/15\n",
      "298/298 [==============================] - 16s 55ms/step - loss: 0.0227 \n",
      "Epoch 5/15\n",
      "298/298 [==============================] - 16s 53ms/step - loss: 0.0187\n",
      "Epoch 6/15\n",
      "298/298 [==============================] - 16s 54ms/step - loss: 0.0169\n",
      "Epoch 7/15\n",
      "298/298 [==============================] - 16s 54ms/step - loss: 0.0155\n",
      "Epoch 8/15\n",
      "298/298 [==============================] - 16s 55ms/step - loss: 0.0146\n",
      "Epoch 9/15\n",
      "298/298 [==============================] - 16s 54ms/step - loss: 0.0134\n",
      "Epoch 10/15\n",
      "298/298 [==============================] - 16s 53ms/step - loss: 0.0129\n",
      "Epoch 11/15\n",
      "298/298 [==============================] - 16s 53ms/step - loss: 0.0124\n",
      "Epoch 12/15\n",
      "298/298 [==============================] - 16s 53ms/step - loss: 0.0117\n",
      "Epoch 13/15\n",
      "298/298 [==============================] - 16s 54ms/step - loss: 0.0114\n",
      "Epoch 14/15\n",
      "298/298 [==============================] - 16s 53ms/step - loss: 0.0113\n",
      "Epoch 15/15\n",
      "298/298 [==============================] - 16s 52ms/step - loss: 0.0109\n"
     ]
    }
   ],
   "source": [
    "my_epochs = 15\n",
    "\n",
    "if True:\n",
    "    with tf.device('/CPU:0'):\n",
    "        # CPU\n",
    "        #\n",
    "        model.fit_generator(generator, epochs=my_epochs) \n",
    "if False:\n",
    "    with tf.device('/GPU:0'): \n",
    "        # RTX 2080\n",
    "        model.fit_generator(generator, epochs=my_epochs)\n",
    "if False:\n",
    "    with tf.device('/GPU:1'): \n",
    "        # GTX 970\n",
    "        model.fit_generator(generator, epochs=my_epochs)\n",
    "    \n",
    "    \n"
   ]
  },
  {
   "cell_type": "code",
   "execution_count": 45,
   "metadata": {},
   "outputs": [
    {
     "data": {
      "text/plain": [
       "{'loss': [0.08990446587170897,\n",
       "  0.061149637084853437,\n",
       "  0.0357121492273026,\n",
       "  0.022734467181845235,\n",
       "  0.01866089761749007,\n",
       "  0.01690855452263316,\n",
       "  0.015517413010105015,\n",
       "  0.01459143036855183,\n",
       "  0.013428122561954057,\n",
       "  0.012900061837546594,\n",
       "  0.012363599211242672,\n",
       "  0.011685572494448297,\n",
       "  0.011364237684537088,\n",
       "  0.01130418794154369,\n",
       "  0.010879498988564704]}"
      ]
     },
     "execution_count": 45,
     "metadata": {},
     "output_type": "execute_result"
    }
   ],
   "source": [
    "model.history.history"
   ]
  },
  {
   "cell_type": "code",
   "execution_count": 46,
   "metadata": {},
   "outputs": [],
   "source": [
    "losses = pd.DataFrame(model.history.history)"
   ]
  },
  {
   "cell_type": "code",
   "execution_count": 47,
   "metadata": {},
   "outputs": [
    {
     "data": {
      "text/plain": [
       "[<matplotlib.lines.Line2D at 0x1da8eef4bc8>]"
      ]
     },
     "execution_count": 47,
     "metadata": {},
     "output_type": "execute_result"
    },
    {
     "data": {
      "image/png": "[encoded data removed]",
      "text/plain": [
       "<Figure size 432x288 with 1 Axes>"
      ]
     },
     "metadata": {
      "needs_background": "light"
     },
     "output_type": "display_data"
    }
   ],
   "source": [
    "plt.plot(losses)"
   ]
  },
  {
   "cell_type": "code",
   "execution_count": 48,
   "metadata": {},
   "outputs": [
    {
     "data": {
      "text/plain": [
       "array([[0.70980392],\n",
       "       [0.60196078],\n",
       "       [0.53529412],\n",
       "       [0.01764706],\n",
       "       [0.02745098],\n",
       "       [0.61960784],\n",
       "       [0.67254902],\n",
       "       [0.60784314],\n",
       "       [0.57254902],\n",
       "       [0.54313725]])"
      ]
     },
     "execution_count": 48,
     "metadata": {},
     "output_type": "execute_result"
    }
   ],
   "source": [
    "# take the last bits of data from trian\n",
    "# predict the next number\n",
    "# compare that number to our hold out test set\n",
    "\n",
    "first_eval_batch = scaled_train[-length:]\n",
    "first_eval_batch"
   ]
  },
  {
   "cell_type": "code",
   "execution_count": 49,
   "metadata": {},
   "outputs": [],
   "source": [
    "first_eval_batch_reshaped = first_eval_batch.reshape(1,length,n_features)"
   ]
  },
  {
   "cell_type": "code",
   "execution_count": 50,
   "metadata": {},
   "outputs": [
    {
     "data": {
      "text/plain": [
       "(1, 10, 1)"
      ]
     },
     "execution_count": 50,
     "metadata": {},
     "output_type": "execute_result"
    }
   ],
   "source": [
    "first_eval_batch_reshaped.shape"
   ]
  },
  {
   "cell_type": "code",
   "execution_count": 51,
   "metadata": {},
   "outputs": [
    {
     "data": {
      "text/plain": [
       "array([[[0.70980392],\n",
       "        [0.60196078],\n",
       "        [0.53529412],\n",
       "        [0.01764706],\n",
       "        [0.02745098],\n",
       "        [0.61960784],\n",
       "        [0.67254902],\n",
       "        [0.60784314],\n",
       "        [0.57254902],\n",
       "        [0.54313725]]])"
      ]
     },
     "execution_count": 51,
     "metadata": {},
     "output_type": "execute_result"
    }
   ],
   "source": [
    "first_eval_batch_reshaped"
   ]
  },
  {
   "cell_type": "code",
   "execution_count": 52,
   "metadata": {},
   "outputs": [
    {
     "data": {
      "text/plain": [
       "array([[0.12398315]], dtype=float32)"
      ]
     },
     "execution_count": 52,
     "metadata": {},
     "output_type": "execute_result"
    }
   ],
   "source": [
    "model.predict(first_eval_batch_reshaped)"
   ]
  },
  {
   "cell_type": "code",
   "execution_count": 53,
   "metadata": {},
   "outputs": [
    {
     "data": {
      "text/plain": [
       "array([0.01372549])"
      ]
     },
     "execution_count": 53,
     "metadata": {},
     "output_type": "execute_result"
    }
   ],
   "source": [
    "scaled_test[0]"
   ]
  },
  {
   "cell_type": "code",
   "execution_count": 54,
   "metadata": {},
   "outputs": [],
   "source": [
    "# so we need this in a loop to see forecasted numbers\n",
    "test_preds =[]\n",
    "first_eval_batch = scaled_train[-length:]\n",
    "current_batch = first_eval_batch.reshape(1,length,n_features)\n"
   ]
  },
  {
   "cell_type": "code",
   "execution_count": 55,
   "metadata": {},
   "outputs": [],
   "source": [
    "# we need to append a value to tback end of the batchcurrent_batch\n",
    "# and drop the first element\n",
    "# so we have an array ( , , ,)\n",
    "# we are appending to the middle dimension\n",
    "# and dropping one\n",
    "# np.append(:,1:,:, [[[new_value]]], axis=1) does the trick\n",
    "\n",
    "\n",
    "#current_batch"
   ]
  },
  {
   "cell_type": "code",
   "execution_count": 56,
   "metadata": {},
   "outputs": [],
   "source": [
    "#pred_value=[[[99]]]\n",
    "#np.append(current_batch[:,1:,:], pred_value , axis=1)"
   ]
  },
  {
   "cell_type": "code",
   "execution_count": 57,
   "metadata": {},
   "outputs": [],
   "source": [
    "# so we need this in a loop to see forecasted numbers\n",
    "test_preds =[]\n",
    "first_eval_batch = scaled_train[-length:]\n",
    "current_batch = first_eval_batch.reshape(1,length,n_features)\n",
    "for i in range(len(test)):\n",
    "    current_pred = model.predict(current_batch)[0]\n",
    "    test_preds.append(current_pred)\n",
    "    current_batch = np.append(current_batch[:,1:,:], [[current_pred]] , axis=1)\n",
    "    # the indexing above says, grab all of the first index\n",
    "    # start at 1 on the second and go to the end\n",
    "    # take all of the third\n",
    "    # that does a shift of the array basically dropping thefirst element\n",
    "    # and then we are appending the precition to the end.\n",
    "    # the more times through the loop, the more real points we loose\n",
    "    # and the more predicted points get takced on\n",
    "    \n",
    "    "
   ]
  },
  {
   "cell_type": "code",
   "execution_count": 58,
   "metadata": {},
   "outputs": [
    {
     "data": {
      "text/plain": [
       "28"
      ]
     },
     "execution_count": 58,
     "metadata": {},
     "output_type": "execute_result"
    }
   ],
   "source": [
    "len(test_preds)"
   ]
  },
  {
   "cell_type": "code",
   "execution_count": 59,
   "metadata": {},
   "outputs": [
    {
     "data": {
      "text/plain": [
       "[array([0.12398315], dtype=float32),\n",
       " array([0.06572673], dtype=float32),\n",
       " array([0.6611947], dtype=float32),\n",
       " array([0.71680796], dtype=float32),\n",
       " array([0.671226], dtype=float32),\n",
       " array([0.6935125], dtype=float32),\n",
       " array([0.6405717], dtype=float32),\n",
       " array([0.21441305], dtype=float32),\n",
       " array([0.13537176], dtype=float32),\n",
       " array([0.6489822], dtype=float32),\n",
       " array([0.73109186], dtype=float32),\n",
       " array([0.70064497], dtype=float32),\n",
       " array([0.76495695], dtype=float32),\n",
       " array([0.7319483], dtype=float32),\n",
       " array([0.31526318], dtype=float32),\n",
       " array([0.17020936], dtype=float32),\n",
       " array([0.61034226], dtype=float32),\n",
       " array([0.72924733], dtype=float32),\n",
       " array([0.7015868], dtype=float32),\n",
       " array([0.78677016], dtype=float32),\n",
       " array([0.79205054], dtype=float32),\n",
       " array([0.4389123], dtype=float32),\n",
       " array([0.19917966], dtype=float32),\n",
       " array([0.5523676], dtype=float32),\n",
       " array([0.7219764], dtype=float32),\n",
       " array([0.69946337], dtype=float32),\n",
       " array([0.7757515], dtype=float32),\n",
       " array([0.82008076], dtype=float32)]"
      ]
     },
     "execution_count": 59,
     "metadata": {},
     "output_type": "execute_result"
    }
   ],
   "source": [
    "test_preds"
   ]
  },
  {
   "cell_type": "code",
   "execution_count": 60,
   "metadata": {},
   "outputs": [
    {
     "data": {
      "text/plain": [
       "[<matplotlib.lines.Line2D at 0x1da910fb248>]"
      ]
     },
     "execution_count": 60,
     "metadata": {},
     "output_type": "execute_result"
    },
    {
     "data": {
      "image/png": "[encoded data removed]",
      "text/plain": [
       "<Figure size 432x288 with 1 Axes>"
      ]
     },
     "metadata": {
      "needs_background": "light"
     },
     "output_type": "display_data"
    }
   ],
   "source": [
    "plt.plot(test_preds)\n",
    "plt.plot(scaled_test)"
   ]
  },
  {
   "cell_type": "code",
   "execution_count": 61,
   "metadata": {},
   "outputs": [],
   "source": [
    "# dont forget , all data was scaled, we need to un-scale it!\n",
    "true_preds = scaler.inverse_transform(test_preds)"
   ]
  },
  {
   "cell_type": "code",
   "execution_count": null,
   "metadata": {},
   "outputs": [],
   "source": []
  },
  {
   "cell_type": "code",
   "execution_count": 62,
   "metadata": {},
   "outputs": [
    {
     "data": {
      "text/plain": [
       "array([[ 64.23140763],\n",
       "       [ 34.5206309 ],\n",
       "       [338.20928788],\n",
       "       [366.57206035],\n",
       "       [343.32527256],\n",
       "       [354.69137466],\n",
       "       [327.69157386],\n",
       "       [110.35065389],\n",
       "       [ 70.03959736],\n",
       "       [331.98093569],\n",
       "       [373.85684705],\n",
       "       [358.32893467],\n",
       "       [391.12804508],\n",
       "       [374.29364121],\n",
       "       [161.78422278],\n",
       "       [ 87.80677518],\n",
       "       [312.27455473],\n",
       "       [372.91613913],\n",
       "       [358.8092593 ],\n",
       "       [402.25278413],\n",
       "       [404.94577563],\n",
       "       [224.84527415],\n",
       "       [102.58162877],\n",
       "       [282.70749009],\n",
       "       [369.20796371],\n",
       "       [357.72631741],\n",
       "       [396.63325047],\n",
       "       [419.24118614]])"
      ]
     },
     "execution_count": 62,
     "metadata": {},
     "output_type": "execute_result"
    }
   ],
   "source": [
    "true_preds"
   ]
  },
  {
   "cell_type": "code",
   "execution_count": 63,
   "metadata": {},
   "outputs": [],
   "source": [
    "test['preds'] = true_preds"
   ]
  },
  {
   "cell_type": "code",
   "execution_count": 64,
   "metadata": {},
   "outputs": [
    {
     "data": {
      "text/html": [
       "<div>\n",
       "<style scoped>\n",
       "    .dataframe tbody tr th:only-of-type {\n",
       "        vertical-align: middle;\n",
       "    }\n",
       "\n",
       "    .dataframe tbody tr th {\n",
       "        vertical-align: top;\n",
       "    }\n",
       "\n",
       "    .dataframe thead th {\n",
       "        text-align: right;\n",
       "    }\n",
       "</style>\n",
       "<table border=\"1\" class=\"dataframe\">\n",
       "  <thead>\n",
       "    <tr style=\"text-align: right;\">\n",
       "      <th></th>\n",
       "      <th>record_count</th>\n",
       "      <th>preds</th>\n",
       "    </tr>\n",
       "  </thead>\n",
       "  <tbody>\n",
       "    <tr>\n",
       "      <th>308</th>\n",
       "      <td>8</td>\n",
       "      <td>64.231408</td>\n",
       "    </tr>\n",
       "    <tr>\n",
       "      <th>309</th>\n",
       "      <td>32</td>\n",
       "      <td>34.520631</td>\n",
       "    </tr>\n",
       "    <tr>\n",
       "      <th>310</th>\n",
       "      <td>367</td>\n",
       "      <td>338.209288</td>\n",
       "    </tr>\n",
       "    <tr>\n",
       "      <th>311</th>\n",
       "      <td>376</td>\n",
       "      <td>366.572060</td>\n",
       "    </tr>\n",
       "    <tr>\n",
       "      <th>312</th>\n",
       "      <td>324</td>\n",
       "      <td>343.325273</td>\n",
       "    </tr>\n",
       "    <tr>\n",
       "      <th>313</th>\n",
       "      <td>190</td>\n",
       "      <td>354.691375</td>\n",
       "    </tr>\n",
       "    <tr>\n",
       "      <th>314</th>\n",
       "      <td>130</td>\n",
       "      <td>327.691574</td>\n",
       "    </tr>\n",
       "    <tr>\n",
       "      <th>315</th>\n",
       "      <td>5</td>\n",
       "      <td>110.350654</td>\n",
       "    </tr>\n",
       "    <tr>\n",
       "      <th>316</th>\n",
       "      <td>31</td>\n",
       "      <td>70.039597</td>\n",
       "    </tr>\n",
       "    <tr>\n",
       "      <th>317</th>\n",
       "      <td>329</td>\n",
       "      <td>331.980936</td>\n",
       "    </tr>\n",
       "    <tr>\n",
       "      <th>318</th>\n",
       "      <td>379</td>\n",
       "      <td>373.856847</td>\n",
       "    </tr>\n",
       "    <tr>\n",
       "      <th>319</th>\n",
       "      <td>355</td>\n",
       "      <td>358.328935</td>\n",
       "    </tr>\n",
       "    <tr>\n",
       "      <th>320</th>\n",
       "      <td>342</td>\n",
       "      <td>391.128045</td>\n",
       "    </tr>\n",
       "    <tr>\n",
       "      <th>321</th>\n",
       "      <td>401</td>\n",
       "      <td>374.293641</td>\n",
       "    </tr>\n",
       "    <tr>\n",
       "      <th>322</th>\n",
       "      <td>9</td>\n",
       "      <td>161.784223</td>\n",
       "    </tr>\n",
       "    <tr>\n",
       "      <th>323</th>\n",
       "      <td>12</td>\n",
       "      <td>87.806775</td>\n",
       "    </tr>\n",
       "    <tr>\n",
       "      <th>324</th>\n",
       "      <td>290</td>\n",
       "      <td>312.274555</td>\n",
       "    </tr>\n",
       "    <tr>\n",
       "      <th>325</th>\n",
       "      <td>298</td>\n",
       "      <td>372.916139</td>\n",
       "    </tr>\n",
       "    <tr>\n",
       "      <th>326</th>\n",
       "      <td>313</td>\n",
       "      <td>358.809259</td>\n",
       "    </tr>\n",
       "    <tr>\n",
       "      <th>327</th>\n",
       "      <td>366</td>\n",
       "      <td>402.252784</td>\n",
       "    </tr>\n",
       "    <tr>\n",
       "      <th>328</th>\n",
       "      <td>251</td>\n",
       "      <td>404.945776</td>\n",
       "    </tr>\n",
       "    <tr>\n",
       "      <th>329</th>\n",
       "      <td>3</td>\n",
       "      <td>224.845274</td>\n",
       "    </tr>\n",
       "    <tr>\n",
       "      <th>330</th>\n",
       "      <td>47</td>\n",
       "      <td>102.581629</td>\n",
       "    </tr>\n",
       "    <tr>\n",
       "      <th>331</th>\n",
       "      <td>390</td>\n",
       "      <td>282.707490</td>\n",
       "    </tr>\n",
       "    <tr>\n",
       "      <th>332</th>\n",
       "      <td>328</td>\n",
       "      <td>369.207964</td>\n",
       "    </tr>\n",
       "    <tr>\n",
       "      <th>333</th>\n",
       "      <td>354</td>\n",
       "      <td>357.726317</td>\n",
       "    </tr>\n",
       "    <tr>\n",
       "      <th>334</th>\n",
       "      <td>366</td>\n",
       "      <td>396.633250</td>\n",
       "    </tr>\n",
       "    <tr>\n",
       "      <th>335</th>\n",
       "      <td>314</td>\n",
       "      <td>419.241186</td>\n",
       "    </tr>\n",
       "  </tbody>\n",
       "</table>\n",
       "</div>"
      ],
      "text/plain": [
       "     record_count       preds\n",
       "308             8   64.231408\n",
       "309            32   34.520631\n",
       "310           367  338.209288\n",
       "311           376  366.572060\n",
       "312           324  343.325273\n",
       "313           190  354.691375\n",
       "314           130  327.691574\n",
       "315             5  110.350654\n",
       "316            31   70.039597\n",
       "317           329  331.980936\n",
       "318           379  373.856847\n",
       "319           355  358.328935\n",
       "320           342  391.128045\n",
       "321           401  374.293641\n",
       "322             9  161.784223\n",
       "323            12   87.806775\n",
       "324           290  312.274555\n",
       "325           298  372.916139\n",
       "326           313  358.809259\n",
       "327           366  402.252784\n",
       "328           251  404.945776\n",
       "329             3  224.845274\n",
       "330            47  102.581629\n",
       "331           390  282.707490\n",
       "332           328  369.207964\n",
       "333           354  357.726317\n",
       "334           366  396.633250\n",
       "335           314  419.241186"
      ]
     },
     "execution_count": 64,
     "metadata": {},
     "output_type": "execute_result"
    }
   ],
   "source": [
    "test"
   ]
  },
  {
   "cell_type": "code",
   "execution_count": 66,
   "metadata": {},
   "outputs": [
    {
     "data": {
      "text/plain": [
       "<matplotlib.axes._subplots.AxesSubplot at 0x1da911f7d48>"
      ]
     },
     "execution_count": 66,
     "metadata": {},
     "output_type": "execute_result"
    },
    {
     "data": {
      "image/png": "[encoded data removed]",
      "text/plain": [
       "<Figure size 864x576 with 1 Axes>"
      ]
     },
     "metadata": {
      "needs_background": "light"
     },
     "output_type": "display_data"
    }
   ],
   "source": [
    "# looks close to me\n",
    "test.plot(figsize=(12,8))  "
   ]
  },
  {
   "cell_type": "code",
   "execution_count": null,
   "metadata": {},
   "outputs": [],
   "source": []
  }
 ],
 "metadata": {
  "kernelspec": {
   "display_name": "p37g",
   "language": "python",
   "name": "p37g"
  },
  "language_info": {
   "codemirror_mode": {
    "name": "ipython",
    "version": 3
   },
   "file_extension": ".py",
   "mimetype": "text/x-python",
   "name": "python",
   "nbconvert_exporter": "python",
   "pygments_lexer": "ipython3",
   "version": "3.7.5"
  }
 },
 "nbformat": 4,
 "nbformat_minor": 2
}
